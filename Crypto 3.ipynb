{
 "cells": [
  {
   "cell_type": "code",
   "execution_count": 7,
   "metadata": {},
   "outputs": [],
   "source": [
    "\n",
    "def eea(a,b):\n",
    "    if b==0:return (1,0)\n",
    "    (q,r) = (a//b,a%b)\n",
    "    (s,t) = eea(b,r)\n",
    "    return (t, s-(q*t) )\n",
    "\n",
    "def find_inverse(x,y):\n",
    "    inv = eea(x,y)[0]\n",
    "    if inv < 1: inv += y\n",
    "    return inv\n",
    "\n",
    "def gen_keys(p, q, e=3):\n",
    "    n = p*q\n",
    "    y = (p-1)*(q-1)\n",
    "    d = find_inverse(e, y)\n",
    "    return (e, n), (d,n)\n",
    "\n",
    "def enc(key, message):\n",
    "    return (message**key[0])%key[1]"
   ]
  },
  {
   "cell_type": "code",
   "execution_count": 8,
   "metadata": {},
   "outputs": [
    {
     "name": "stdout",
     "output_type": "stream",
     "text": [
      "PUB: (3, 17947)\n",
      "PRIV: (11787, 17947)\n"
     ]
    }
   ],
   "source": [
    "pub, priv = gen_keys(131, 137)\n",
    "print(\"PUB: {}\\nPRIV: {}\".format(pub, priv))"
   ]
  },
  {
   "cell_type": "code",
   "execution_count": 25,
   "metadata": {},
   "outputs": [
    {
     "name": "stdout",
     "output_type": "stream",
     "text": [
      "MESSAGE: haleta pavlo\n",
      "ENCODED: [12150, 15323, 3422, 7322, 17454, 15323, 14821, 5062, 15323, 9855, 3422, 3659]\n",
      "DECODED: haleta pavlo\n"
     ]
    }
   ],
   "source": [
    "MESSAGE_STR  = 'haleta pavlo'\n",
    "MESSAGE = list(map(ord, 'haleta pavlo'))\n",
    "\n",
    "encoded = list(map(lambda x: enc(pub, x), MESSAGE))\n",
    "decoded = ''.join(list(map(lambda x: chr(enc(priv, x)), encoded)))\n",
    "print(\"MESSAGE: {}\\nENCODED: {}\\nDECODED: {}\".format(MESSAGE_STR, encoded, decoded))"
   ]
  },
  {
   "cell_type": "code",
   "execution_count": 27,
   "metadata": {},
   "outputs": [
    {
     "data": {
      "text/plain": [
       "104"
      ]
     },
     "execution_count": 27,
     "metadata": {},
     "output_type": "execute_result"
    }
   ],
   "source": [
    "ord('h')"
   ]
  },
  {
   "cell_type": "markdown",
   "metadata": {},
   "source": [
    "# Using CrypTool"
   ]
  },
  {
   "cell_type": "markdown",
   "metadata": {},
   "source": [
    "![title](img/10.PNG)"
   ]
  },
  {
   "cell_type": "markdown",
   "metadata": {},
   "source": [
    "# Using lib"
   ]
  },
  {
   "cell_type": "code",
   "execution_count": 32,
   "metadata": {},
   "outputs": [
    {
     "name": "stdout",
     "output_type": "stream",
     "text": [
      "MESSAGE: haleta pavlo\n",
      "ENCODED: (b\"q2\\xcd+PB4\\x7f;Gv\\xb0\\xa5\\xd6\\x82'\\x85W\\xecH\\x8c|\\xe0\\x98\\xc9\\xe9S[\\xed\\x83\\xa1@\\x00U+\\xce \\x90\\x0ci\\x18\\xceOv\\xee!\\x11\\x83Y!\\x1a\\xbaG\\xf3:\\xbc\\x15l\\xc4v=\\xe4\\x1a\\xe3\\x88\\x07\\x0fiit\\xeeL\\xa9C\\xeb\\xd6^\\x02\\x00\\xba\\xab\\xea\\xcd\\x98\\x92k\\xec\\x11V\\xee,pc;5jq/\\x12\\x0e\\xe4\\x07b\\xce*H\\xa4\\xab\\x8f\\x05gp\\x83wu\\xfc\\x9c\\x98\\xef\\xf1j\\x99\\xee\\xe1\\xe5<\\xb6\\xb0\",)\n",
      "DECODED: haleta pavlo\n"
     ]
    }
   ],
   "source": [
    "import Crypto\n",
    "from Crypto.PublicKey import RSA\n",
    "from Crypto import Random\n",
    "import ast\n",
    "\n",
    "random_generator = Random.new().read\n",
    "key = RSA.generate(1024, random_generator)\n",
    "publickey = key.publickey()\n",
    "encrypted = publickey.encrypt(MESSAGE_STR.encode('utf-8'), 32)\n",
    "decrypted = key.decrypt(ast.literal_eval(str(encrypted)))\n",
    "print(\"MESSAGE: {}\\nENCODED: {}\\nDECODED: {}\".format(MESSAGE_STR, encrypted, decrypted.decode('utf-8')))"
   ]
  },
  {
   "cell_type": "code",
   "execution_count": null,
   "metadata": {},
   "outputs": [],
   "source": []
  }
 ],
 "metadata": {
  "kernelspec": {
   "display_name": "Python 3",
   "language": "python",
   "name": "python3"
  },
  "language_info": {
   "codemirror_mode": {
    "name": "ipython",
    "version": 3
   },
   "file_extension": ".py",
   "mimetype": "text/x-python",
   "name": "python",
   "nbconvert_exporter": "python",
   "pygments_lexer": "ipython3",
   "version": "3.6.4"
  }
 },
 "nbformat": 4,
 "nbformat_minor": 2
}
