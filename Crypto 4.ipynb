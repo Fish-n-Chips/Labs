{
 "cells": [
  {
   "cell_type": "markdown",
   "metadata": {},
   "source": [
    "# SHA 1"
   ]
  },
  {
   "cell_type": "code",
   "execution_count": 42,
   "metadata": {},
   "outputs": [],
   "source": [
    "from functools import reduce\n",
    "\n",
    "class SHA1:\n",
    "    def __init__(self):\n",
    "        self.H = [0x67452301, 0xEFCDAB89, 0x98BADCFE, 0x10325476, 0xC3D2E1F0]\n",
    "    \n",
    "    def update(self, stream):\n",
    "        stream = self._padding(stream)\n",
    "        stream = self._prepare(stream)\n",
    "\n",
    "        for block in stream:\n",
    "            self._process_block(block)\n",
    "    \n",
    "    def _padding(self, stream):\n",
    "        l = len(stream)  # Bytes\n",
    "        hl = [int((hex(l*8)[2:]).rjust(16, '0')[i:i+2], 16)\n",
    "              for i in range(0, 16, 2)]\n",
    "\n",
    "        l0 = (56 - l) % 64\n",
    "        if not l0:\n",
    "            l0 = 64\n",
    "\n",
    "        if isinstance(stream, str):\n",
    "            stream += chr(0b10000000)\n",
    "            stream += chr(0)*(l0-1)\n",
    "            for a in hl:\n",
    "                stream += chr(a)\n",
    "        elif isinstance(stream, bytes):\n",
    "            stream += bytes([0b10000000])\n",
    "            stream += bytes(l0-1)\n",
    "            stream += bytes(hl)\n",
    "\n",
    "        return stream\n",
    "    \n",
    "    def _prepare(self, stream):\n",
    "        M = []\n",
    "        n_blocks = len(stream) // 64\n",
    "\n",
    "        stream = bytearray(stream, 'utf8')\n",
    "\n",
    "        for i in range(n_blocks):  # 64 Bytes per Block\n",
    "            m = []\n",
    "\n",
    "            for j in range(16):  # 16 Words per Block\n",
    "                n = 0\n",
    "                for k in range(4):  # 4 Bytes per Word\n",
    "                    n <<= 8\n",
    "                    n += stream[i*64 + j*4 + k]\n",
    "\n",
    "                m.append(n)\n",
    "\n",
    "            M.append(m[:])\n",
    "\n",
    "        return M\n",
    "    \n",
    "    def _process_block(self, block):\n",
    "        MASK = 2**32-1\n",
    "\n",
    "        W = block[:]\n",
    "        for t in range(16, 80):\n",
    "            W.append(self._ROTL(1, (W[t-3] ^ W[t-8] ^ W[t-14] ^ W[t-16]))\n",
    "                     & MASK)\n",
    "\n",
    "        a, b, c, d, e = self.H[:]\n",
    "\n",
    "        for t in range(80):\n",
    "            if t <= 19:\n",
    "                K = 0x5a827999\n",
    "                f = (b & c) ^ (~b & d)\n",
    "            elif t <= 39:\n",
    "                K = 0x6ed9eba1\n",
    "                f = b ^ c ^ d\n",
    "            elif t <= 59:\n",
    "                K = 0x8f1bbcdc\n",
    "                f = (b & c) ^ (b & d) ^ (c & d)\n",
    "            else:\n",
    "                K = 0xca62c1d6\n",
    "                f = b ^ c ^ d\n",
    "\n",
    "            T = ((self._ROTL(5, a) + f + e + K + W[t]) & MASK)\n",
    "            e = d\n",
    "            d = c\n",
    "            c = self._ROTL(30, b) & MASK\n",
    "            b = a\n",
    "            a = T\n",
    "\n",
    "            #SHA1.debug_print(t, a,b,c,d,e)\n",
    "\n",
    "        self.H[0] = (a + self.H[0]) & MASK\n",
    "        self.H[1] = (b + self.H[1]) & MASK\n",
    "        self.H[2] = (c + self.H[2]) & MASK\n",
    "        self.H[3] = (d + self.H[3]) & MASK\n",
    "        self.H[4] = (e + self.H[4]) & MASK\n",
    "    \n",
    "    def _ROTL(self, n, x, w=32):\n",
    "        return ((x << n) | (x >> w - n))\n",
    "\n",
    "    def hexdigest(self):\n",
    "        s = ''\n",
    "        for h in self.H:\n",
    "            s += (hex(h)[2:]).rjust(8, '0')\n",
    "        return s"
   ]
  },
  {
   "cell_type": "markdown",
   "metadata": {},
   "source": [
    "# Table encoding"
   ]
  },
  {
   "cell_type": "code",
   "execution_count": 137,
   "metadata": {},
   "outputs": [],
   "source": [
    "def simple_code(message, w):\n",
    "    new_m = list()\n",
    "    for i in range(w):\n",
    "        new_m += message[i::w]\n",
    "    return ''.join(new_m)\n",
    "\n",
    "def simple_decode(message, w):\n",
    "    new_m = list()\n",
    "    last_l = len(message) % w\n",
    "    for i in range(last_l):\n",
    "        new_m.append(message[(len(message) // w+1)*i:(len(message) // w+1)*(i+1)])\n",
    "    start_id = last_l * (len(message) // w+1)\n",
    "    for i in range(last_l,w):\n",
    "        new_m.append(message[start_id+(len(message) // w)*(i-last_l):start_id+(len(message) // w)*(i-last_l+1)])\n",
    "    out = list()\n",
    "    for i in range(len(new_m[0])):\n",
    "        for j in range(len(new_m)):\n",
    "            out += new_m[j][i:i+1]\n",
    "    return ''.join(out)"
   ]
  },
  {
   "cell_type": "markdown",
   "metadata": {},
   "source": [
    "# RSA"
   ]
  },
  {
   "cell_type": "code",
   "execution_count": 157,
   "metadata": {},
   "outputs": [],
   "source": [
    "import Crypto\n",
    "from Crypto.PublicKey import RSA\n",
    "from Crypto import Random\n",
    "import ast\n",
    "\n",
    "random_generator = Random.new().read\n",
    "key = RSA.generate(1024, random_generator)\n",
    "publickey = key.publickey()"
   ]
  },
  {
   "cell_type": "markdown",
   "metadata": {},
   "source": [
    "# Sending file hash"
   ]
  },
  {
   "cell_type": "code",
   "execution_count": 158,
   "metadata": {},
   "outputs": [
    {
     "name": "stdout",
     "output_type": "stream",
     "text": [
      "SHA1:  f800d5f4c9d311574fb6d20930dac66947972e44\n",
      "ENC SYNC:  f1d485a07c046df65b9f644d7c29907d9233e104\n",
      "ENC ASYNC:  (b\"\\x8d\\x93K`\\xee\\xb0\\xa18\\x91\\xb7\\xb3\\xf9v\\xf4\\xdd\\xce\\x81\\xc4\\xc3.~\\xec\\xd3\\xb7W\\xd9\\x17\\xc4\\xbat\\xfd\\xa1\\x00\\x07\\xa4.S+\\xc9SW\\xa5\\x06\\xdd\\x1c4?\\xd9E\\xeba\\xb5\\xf9\\xdd\\xcdB\\xc2\\x94O\\xd1q\\xb6\\x02&\\x04\\x10\\xe7\\xaa\\x94\\x8d\\xdd2\\xc9+\\xd5\\xad\\xf5$\\xba\\xb6\\x04\\xa3\\x0b\\nC\\x81\\xeaA'\\xbc\\xc8r9\\x17\\xcc\\xb4\\x12]l\\xa6\\xb9l\\x91\\x86|\\xf3_\\x88lyj\\x0cBB\\xa7\\x14\\xe1\\xad\\xd0\\x8d\\x04\\xfe\\x8a\\x00\\xc4\\n\\x16\\r\",) \n",
      "\n",
      "\n",
      "DEC ASYNC:  f1d485a07c046df65b9f644d7c29907d9233e104\n",
      "DEC SYNC:  f800d5f4c9d311574fb6d20930dac66947972e44\n"
     ]
    }
   ],
   "source": [
    "with open(\"capital.txt\") as f:\n",
    "    file = f.read()\n",
    "\n",
    "SHA = h = SHA1()\n",
    "for chank in [file[i:i+256] for i in range(0, len(file),256)]:\n",
    "    h.update(chank)\n",
    "hex_sha = h.hexdigest()\n",
    "print(\"SHA1: \",hex_sha)\n",
    "\n",
    "hex_enc_1 = simple_code(hex_sha, 13)\n",
    "print(\"ENC SYNC: \",hex_enc_1)\n",
    "\n",
    "hex_enc_2 = publickey.encrypt(hex_enc_1.encode('utf-8'), 32)\n",
    "print(\"ENC ASYNC: \",hex_enc_2, \"\\n\\n\")\n",
    "\n",
    "hex_dec_2 = key.decrypt(ast.literal_eval(str(hex_enc_2))).decode('utf-8')\n",
    "print(\"DEC ASYNC: \",hex_dec_2)\n",
    "\n",
    "hex_dec_1 = simple_decode(hex_dec_2, 13)\n",
    "print(\"DEC SYNC: \",hex_dec_1)"
   ]
  },
  {
   "cell_type": "markdown",
   "metadata": {},
   "source": [
    "# Birthday attack"
   ]
  },
  {
   "cell_type": "markdown",
   "metadata": {},
   "source": [
    "![title](img/11.PNG)\n",
    "![title](img/12.PNG)\n",
    "![title](img/13.PNG)\n",
    "![title](img/14.PNG)"
   ]
  },
  {
   "cell_type": "code",
   "execution_count": null,
   "metadata": {},
   "outputs": [],
   "source": []
  }
 ],
 "metadata": {
  "kernelspec": {
   "display_name": "Python 3",
   "language": "python",
   "name": "python3"
  },
  "language_info": {
   "codemirror_mode": {
    "name": "ipython",
    "version": 3
   },
   "file_extension": ".py",
   "mimetype": "text/x-python",
   "name": "python",
   "nbconvert_exporter": "python",
   "pygments_lexer": "ipython3",
   "version": "3.6.4"
  }
 },
 "nbformat": 4,
 "nbformat_minor": 2
}
