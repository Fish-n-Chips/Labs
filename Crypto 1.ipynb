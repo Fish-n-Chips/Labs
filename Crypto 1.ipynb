{
 "cells": [
  {
   "cell_type": "markdown",
   "metadata": {},
   "source": [
    "# Caesar"
   ]
  },
  {
   "cell_type": "code",
   "execution_count": 1,
   "metadata": {},
   "outputs": [
    {
     "name": "stdout",
     "output_type": "stream",
     "text": [
      "['A', 'B', 'C', 'D', 'E', 'F', 'G', 'H', 'I', 'J', 'K', 'L', 'M', 'N', 'O', 'P', 'Q', 'R', 'S', 'T', 'U', 'V', 'W', 'X', 'Y', 'Z']\n"
     ]
    }
   ],
   "source": [
    "import string\n",
    "dictionary = list(map(chr, range(ord('A'), ord('Z')+1)))\n",
    "print(dictionary)"
   ]
  },
  {
   "cell_type": "code",
   "execution_count": 2,
   "metadata": {},
   "outputs": [],
   "source": [
    "def ROT(message, alphabet, shift=13):\n",
    "    maped = dict(zip(alphabet,alphabet[shift:] + alphabet[:shift]))\n",
    "    return ''.join(map(lambda x: maped[x] if x in maped.keys() else x, message))"
   ]
  },
  {
   "cell_type": "code",
   "execution_count": 3,
   "metadata": {},
   "outputs": [
    {
     "name": "stdout",
     "output_type": "stream",
     "text": [
      "Encoded:  PITMBI XIDTW ITMFAIVLZWDQKP\n",
      "Decoded:  HALETA PAVLO ALEXSANDROVICH\n"
     ]
    }
   ],
   "source": [
    "coded = ROT('HALETA PAVLO ALEXSANDROVICH', dictionary, 8)\n",
    "print('Encoded: ', coded)\n",
    "coded = ROT(coded, dictionary, len(dictionary)-8)\n",
    "print('Decoded: ', coded)"
   ]
  },
  {
   "cell_type": "markdown",
   "metadata": {},
   "source": [
    "# CrypTool"
   ]
  },
  {
   "cell_type": "markdown",
   "metadata": {},
   "source": [
    "![title](img/1.PNG)\n",
    "![title](img/2.PNG)"
   ]
  },
  {
   "cell_type": "markdown",
   "metadata": {},
   "source": [
    "![title](img/3.PNG)\n",
    "![title](img/4.PNG)"
   ]
  },
  {
   "cell_type": "markdown",
   "metadata": {},
   "source": [
    "# Decoding Caesar"
   ]
  },
  {
   "cell_type": "markdown",
   "metadata": {},
   "source": [
    "![title](img/5.PNG)"
   ]
  },
  {
   "cell_type": "markdown",
   "metadata": {},
   "source": [
    "# Vigenere"
   ]
  },
  {
   "cell_type": "markdown",
   "metadata": {},
   "source": [
    "![title](img/5.PNG)"
   ]
  },
  {
   "cell_type": "code",
   "execution_count": 4,
   "metadata": {},
   "outputs": [],
   "source": [
    "def Vigenere(message, alphabet, key):\n",
    "    return ''.join(map(lambda x: ROT(x[1], alphabet, alphabet.index(key[x[0]%len(key)])), enumerate(message)))\n",
    "\n",
    "def Vigenere_dec(message, alphabet, key):\n",
    "    return ''.join(map(lambda x: ROT(x[1], alphabet, len(alphabet)-alphabet.index(key[x[0]%len(key)])), enumerate(message)))"
   ]
  },
  {
   "cell_type": "code",
   "execution_count": 5,
   "metadata": {},
   "outputs": [
    {
     "name": "stdout",
     "output_type": "stream",
     "text": [
      "Encoded:  ZOXIMH CGNZA TSMKGFRDSOPKU\n",
      "Decoded:  HALETA PAVLO ALEXANDROVICH\n"
     ]
    }
   ],
   "source": [
    "message = 'HALETA PAVLO ALEXANDROVICH'\n",
    "key = 'SOMETHING'\n",
    "message = Vigenere(message, dictionary, key)\n",
    "print('Encoded: ', message)\n",
    "message = Vigenere_dec(message, dictionary, key)\n",
    "print('Decoded: ', message)"
   ]
  },
  {
   "cell_type": "code",
   "execution_count": 6,
   "metadata": {},
   "outputs": [],
   "source": [
    "import operator\n",
    "from functools import reduce\n",
    "import re\n",
    "class KasiskiExamination:\n",
    "    def __init__(self, dictionary, seq_range, seq_am = 16):\n",
    "        self._m = None\n",
    "        self._seq_min = seq_range[0]\n",
    "        self._seq_max = seq_range[1]+1\n",
    "        self._seq_am = seq_am\n",
    "        self._d = dictionary\n",
    "        \n",
    "    def eval(self, message):\n",
    "        self._m = message\n",
    "        seq = reduce(lambda x,y: {**x, **y}, [self.find_sequences(z, 512) for z in range(self._seq_min, self._seq_max)])\n",
    "        if len(seq) > self._seq_am:\n",
    "            seq = dict(sorted(seq.items(), key=operator.itemgetter(1))[-self._seq_am:])\n",
    "        return_dict =dict()\n",
    "        for s,k in seq.items():\n",
    "            max_l = self.common_spacing(s)\n",
    "            return_dict[s] = (k, max_l)\n",
    "            print(\"Seq: {}\\t Oc: {}\\t Common_d: {}\".format(s, k, max_l))\n",
    "        return return_dict\n",
    "        \n",
    "    def find_sequences(self, seq_l, seq_amount):\n",
    "        sequences = {}\n",
    "        for seq_id in range(len(self._m)-seq_l+1):\n",
    "            seq = self._m[seq_id:seq_id+seq_l]\n",
    "            seq_allowed = True\n",
    "            for char in seq:\n",
    "                if char not in self._d:\n",
    "                    seq_allowed = False\n",
    "            if seq_allowed:\n",
    "                sequences[seq] = sequences[seq]+1 if seq in sequences.keys() else 1\n",
    "        if len(sequences) > seq_amount:\n",
    "            sequences = dict(sorted(sequences.items(), key=operator.itemgetter(1))[-seq_amount:])\n",
    "        return sequences\n",
    "    \n",
    "    def common_spacing(self, seq):\n",
    "        seq_spaces = dict()\n",
    "        seqs = [m.start() for m in re.finditer(seq, self._m)]\n",
    "        for s in range(len(seqs)-1):\n",
    "            distance = seqs[s+1]-seqs[s]\n",
    "            seq_spaces[distance] = seq_spaces[distance] + 1 if distance in seq_spaces.keys() else 1\n",
    "        return max(seq_spaces.items(), key=operator.itemgetter(1))[0]\n",
    "            \n",
    "class Vigenere_hack():\n",
    "    def __init__(self, dictionary, key_len):\n",
    "        self._d = dictionary\n",
    "        self._k = '*'*key_len\n",
    "    def set_patern(self, key):\n",
    "        if len(key) != len(self._k):\n",
    "            raise ValueError('Pattern length should be {}'.format(len(self._k)))\n",
    "        self._k = key\n",
    "        \n",
    "    def fr_a(self, message):\n",
    "        key_pos = [dict(zip(self._d, [0]*len(self._d))) for _ in self._k]\n",
    "        for pos, char in enumerate(message):\n",
    "            if char in self._d:\n",
    "                key_pos[pos%len(self._k)][char] += 1\n",
    "        print('FREQUENCY ANALYS:')\n",
    "        for key,i in enumerate(key_pos):\n",
    "            print('Position ', key, ':\\n')\n",
    "            print(i)\n",
    "        return key_pos\n",
    "    \n",
    "    def decode(self, message, freqs):\n",
    "        res = list()\n",
    "        for pos, char in enumerate(message):\n",
    "            if char in self._d:\n",
    "                if self._k[pos%len(self._k)] == '*':\n",
    "                    res.append(freqs[pos%len(self._k)][char].lower())\n",
    "                else:\n",
    "                    res.append(ROT(char, self._d, len(self._d)-self._d.index(self._k[pos%len(self._k)])))\n",
    "            else:\n",
    "                res.append(char)\n",
    "        return ''.join(res)\n",
    "    \n",
    "    def to_fr_unit(self, fr_analis_out, fr_list):\n",
    "        chars = [list(reversed(list(dict(sorted(sequences.items(), key=operator.itemgetter(1))).keys()))) \\\n",
    "                 for sequences in fr_analis_out]\n",
    "        return [dict(zip(char_set, fr_list)) for char_set in chars]\n",
    "    \n",
    "    def add_correct(self, message, decoded, pos):\n",
    "        delta = self._d.index(decoded[pos].upper()) - self._d.index(message[pos])\n",
    "        if delta < 0:\n",
    "            delta = len(self._d) + delta\n",
    "        delta = (len(self._d) - delta) % len(self._d)\n",
    "        key = list(self._k)\n",
    "        print(pos%len(self._k), delta)\n",
    "        key[pos%len(self._k)] = self._d[delta]\n",
    "        self._k = ''.join(key)\n",
    "        print(\"New key: \", self._k)\n",
    "    \n",
    "    def replace(self, message, pos, char):\n",
    "        delta = self._d.index(char.upper()) - self._d.index(message[pos])\n",
    "        if delta < 0:\n",
    "            delta = len(self._d) + delta\n",
    "        delta = (len(self._d) - delta) % len(self._d)\n",
    "        key = list(self._k)\n",
    "        print(pos%len(self._k), delta)\n",
    "        key[pos%len(self._k)] = self._d[delta]\n",
    "        self._k = ''.join(key)\n",
    "        print(\"New key: \", self._k)\n",
    "        \n",
    "    \n",
    "                \n",
    "        "
   ]
  },
  {
   "cell_type": "code",
   "execution_count": 7,
   "metadata": {},
   "outputs": [
    {
     "name": "stdout",
     "output_type": "stream",
     "text": [
      "THE WORK, THE FIRST VOLUME OF WHICH I NOW SUBMIT TO THE PUBLIC, FORMS THE CONTINUATION OF MY \n",
      "ZUR \n",
      "KRITIK  DER  POLITI\n",
      "SCHEN  OEKONOMIE\n",
      "  (\n",
      "A  CONTRIBUTION  TO  THE  CRITICISM  OF  POLITICAL  ECONOMY\n",
      ") \n",
      "PUBLISHED IN 1859. THE LONG PAUSE BETWEEN THE FIRST P\n"
     ]
    }
   ],
   "source": [
    "with open('capital.txt', 'r') as f:\n",
    "    text = f.read().upper()\n",
    "print(text[:256])"
   ]
  },
  {
   "cell_type": "code",
   "execution_count": 8,
   "metadata": {},
   "outputs": [
    {
     "name": "stdout",
     "output_type": "stream",
     "text": [
      "Encoded: \n",
      "\t FLW WUVW, LHK RMJKT ZAPMEE SR OZIIL M FOC EYTEIZ FS LHK BYTDII, JGJMY FLW CURFMFMAZMAR GF QK \n",
      "RUX \n",
      "OJATOO  VWR  BSDATO\n",
      "EGZWN  AICGNUQUI\n",
      "  (\n",
      "M  UOTXDMTMTOSZ  LO  FLW  IVUXAUIYQ  GX  TAPALIIEX  WCURAQQ\n",
      ") \n",
      "BYTDIYLQH AN 1859. ZLQ DGNM BEMKE FQXOWET FLW FOVEX H\n",
      "\n",
      "Decoded: \n",
      "\t THE WORK, THE FIRST VOLUME OF WHICH I NOW SUBMIT TO THE PUBLIC, FORMS THE CONTINUATION OF MY \n",
      "ZUR \n",
      "KRITIK  DER  POLITI\n",
      "SCHEN  OEKONOMIE\n",
      "  (\n",
      "A  CONTRIBUTION  TO  THE  CRITICISM  OF  POLITICAL  ECONOMY\n",
      ") \n",
      "PUBLISHED IN 1859. THE LONG PAUSE BETWEEN THE FIRST P\n"
     ]
    }
   ],
   "source": [
    "key = 'MESSAGE'\n",
    "message = Vigenere(text, dictionary, key)\n",
    "print('Encoded: \\n\\t', message[:256])\n",
    "message_enc = Vigenere_dec(message, dictionary, key)\n",
    "print('\\nDecoded: \\n\\t', message_enc[:256])"
   ]
  },
  {
   "cell_type": "code",
   "execution_count": 9,
   "metadata": {},
   "outputs": [
    {
     "name": "stdout",
     "output_type": "stream",
     "text": [
      "Seq: ZMAR\t Oc: 26\t Common_d: 315\n",
      "Seq: ZMA\t Oc: 27\t Common_d: 2415\n",
      "Seq: MAR\t Oc: 31\t Common_d: 315\n",
      "Seq: ZLQ\t Oc: 55\t Common_d: 42\n",
      "Seq: TNI\t Oc: 57\t Common_d: 322\n",
      "Seq: XTI\t Oc: 61\t Common_d: 469\n",
      "Seq: FLW\t Oc: 66\t Common_d: 91\n",
      "Seq: LHK\t Oc: 75\t Common_d: 42\n",
      "Seq: LZE\t Oc: 81\t Common_d: 14\n",
      "Seq: XZW\t Oc: 82\t Common_d: 21\n"
     ]
    }
   ],
   "source": [
    "k = KasiskiExamination(dictionary, (3,5), 10)\n",
    "res = k.eval(message)"
   ]
  },
  {
   "cell_type": "code",
   "execution_count": 10,
   "metadata": {},
   "outputs": [
    {
     "name": "stdout",
     "output_type": "stream",
     "text": [
      "FREQUENCY ANALYS:\n",
      "Position  0 :\n",
      "\n",
      "{'A': 244, 'B': 73, 'C': 3, 'D': 163, 'E': 196, 'F': 275, 'G': 63, 'H': 27, 'I': 39, 'J': 6, 'K': 54, 'L': 2, 'M': 173, 'N': 33, 'O': 119, 'P': 101, 'Q': 316, 'R': 74, 'S': 46, 'T': 126, 'U': 225, 'V': 3, 'W': 15, 'X': 116, 'Y': 72, 'Z': 189}\n",
      "Position  1 :\n",
      "\n",
      "{'A': 47, 'B': 6, 'C': 43, 'D': 1, 'E': 197, 'F': 23, 'G': 89, 'H': 92, 'I': 327, 'J': 84, 'K': 41, 'L': 143, 'M': 210, 'N': 2, 'O': 10, 'P': 129, 'Q': 87, 'R': 185, 'S': 227, 'T': 62, 'U': 4, 'V': 165, 'W': 178, 'X': 271, 'Y': 75, 'Z': 26}\n",
      "Position  2 :\n",
      "\n",
      "{'A': 224, 'B': 0, 'C': 17, 'D': 114, 'E': 71, 'F': 175, 'G': 222, 'H': 49, 'I': 3, 'J': 173, 'K': 187, 'L': 255, 'M': 54, 'N': 25, 'O': 34, 'P': 4, 'Q': 46, 'R': 3, 'S': 226, 'T': 40, 'U': 107, 'V': 106, 'W': 366, 'X': 79, 'Y': 35, 'Z': 159}\n",
      "Position  3 :\n",
      "\n",
      "{'A': 210, 'B': 2, 'C': 10, 'D': 128, 'E': 66, 'F': 218, 'G': 216, 'H': 64, 'I': 3, 'J': 178, 'K': 174, 'L': 265, 'M': 77, 'N': 22, 'O': 28, 'P': 3, 'Q': 53, 'R': 3, 'S': 201, 'T': 33, 'U': 120, 'V': 85, 'W': 351, 'X': 73, 'Y': 44, 'Z': 144}\n",
      "Position  4 :\n",
      "\n",
      "{'A': 205, 'B': 31, 'C': 121, 'D': 82, 'E': 336, 'F': 70, 'G': 62, 'H': 140, 'I': 245, 'J': 4, 'K': 13, 'L': 109, 'M': 81, 'N': 183, 'O': 225, 'P': 61, 'Q': 1, 'R': 169, 'S': 174, 'T': 269, 'U': 71, 'V': 25, 'W': 40, 'X': 7, 'Y': 49, 'Z': 1}\n",
      "Position  5 :\n",
      "\n",
      "{'A': 53, 'B': 29, 'C': 34, 'D': 11, 'E': 36, 'F': 1, 'G': 210, 'H': 38, 'I': 107, 'J': 69, 'K': 355, 'L': 67, 'M': 54, 'N': 145, 'O': 201, 'P': 5, 'Q': 17, 'R': 115, 'S': 64, 'T': 216, 'U': 240, 'V': 56, 'W': 4, 'X': 177, 'Y': 202, 'Z': 254}\n",
      "Position  6 :\n",
      "\n",
      "{'A': 34, 'B': 10, 'C': 39, 'D': 1, 'E': 230, 'F': 32, 'G': 77, 'H': 107, 'I': 321, 'J': 62, 'K': 37, 'L': 119, 'M': 244, 'N': 0, 'O': 13, 'P': 116, 'Q': 78, 'R': 210, 'S': 230, 'T': 63, 'U': 3, 'V': 154, 'W': 205, 'X': 240, 'Y': 57, 'Z': 30}\n"
     ]
    }
   ],
   "source": [
    "vh = Vigenere_hack(dictionary, 7)\n",
    "res = vh.fr_a(message)"
   ]
  },
  {
   "cell_type": "code",
   "execution_count": 11,
   "metadata": {},
   "outputs": [
    {
     "name": "stdout",
     "output_type": "stream",
     "text": [
      "{'Q': 'E', 'F': 'T', 'A': 'A', 'U': 'O', 'E': 'I', 'Z': 'N', 'M': 'S', 'D': 'R', 'T': 'H', 'O': 'D', 'X': 'L', 'P': 'U', 'R': 'C', 'B': 'M', 'Y': 'F', 'G': 'Y', 'K': 'W', 'S': 'G', 'I': 'P', 'N': 'B', 'H': 'V', 'W': 'K', 'J': 'X', 'V': 'Q', 'C': 'J', 'L': 'Z'} \n",
      "\n",
      "{'I': 'E', 'X': 'T', 'S': 'A', 'M': 'O', 'E': 'I', 'R': 'N', 'W': 'S', 'V': 'R', 'L': 'H', 'P': 'D', 'H': 'L', 'G': 'U', 'Q': 'C', 'J': 'M', 'Y': 'F', 'T': 'Y', 'A': 'W', 'C': 'G', 'K': 'P', 'Z': 'B', 'F': 'V', 'O': 'K', 'B': 'X', 'U': 'Q', 'N': 'J', 'D': 'Z'} \n",
      "\n",
      "{'W': 'E', 'L': 'T', 'S': 'A', 'A': 'O', 'G': 'I', 'K': 'N', 'F': 'S', 'J': 'R', 'Z': 'H', 'D': 'D', 'U': 'L', 'V': 'U', 'X': 'C', 'E': 'M', 'M': 'F', 'H': 'Y', 'Q': 'W', 'T': 'G', 'Y': 'P', 'O': 'B', 'N': 'V', 'C': 'K', 'P': 'X', 'R': 'Q', 'I': 'J', 'B': 'Z'} \n",
      "\n",
      "{'W': 'E', 'L': 'T', 'F': 'A', 'G': 'O', 'A': 'I', 'S': 'N', 'J': 'S', 'K': 'R', 'Z': 'H', 'D': 'D', 'U': 'L', 'V': 'U', 'M': 'C', 'X': 'M', 'E': 'F', 'H': 'Y', 'Q': 'W', 'Y': 'G', 'T': 'P', 'O': 'B', 'N': 'V', 'C': 'K', 'R': 'X', 'P': 'Q', 'I': 'J', 'B': 'Z'} \n",
      "\n",
      "{'E': 'E', 'T': 'T', 'I': 'A', 'O': 'O', 'A': 'I', 'N': 'N', 'S': 'S', 'R': 'R', 'H': 'H', 'C': 'D', 'L': 'L', 'D': 'U', 'M': 'C', 'U': 'M', 'F': 'F', 'G': 'Y', 'P': 'W', 'Y': 'G', 'W': 'P', 'B': 'B', 'V': 'V', 'K': 'K', 'X': 'X', 'J': 'Q', 'Z': 'J', 'Q': 'Z'} \n",
      "\n",
      "{'K': 'E', 'Z': 'T', 'U': 'A', 'T': 'O', 'G': 'I', 'Y': 'N', 'O': 'S', 'X': 'R', 'N': 'H', 'R': 'D', 'I': 'L', 'J': 'U', 'L': 'C', 'S': 'M', 'V': 'F', 'M': 'Y', 'A': 'W', 'H': 'G', 'E': 'P', 'C': 'B', 'B': 'V', 'Q': 'K', 'D': 'X', 'P': 'Q', 'W': 'J', 'F': 'Z'} \n",
      "\n",
      "{'I': 'E', 'M': 'T', 'X': 'A', 'S': 'O', 'E': 'I', 'R': 'N', 'W': 'S', 'V': 'R', 'L': 'H', 'P': 'D', 'H': 'L', 'Q': 'U', 'G': 'C', 'T': 'M', 'J': 'F', 'Y': 'Y', 'C': 'W', 'K': 'G', 'A': 'P', 'F': 'B', 'Z': 'V', 'O': 'K', 'B': 'X', 'U': 'Q', 'D': 'J', 'N': 'Z'} \n",
      "\n"
     ]
    }
   ],
   "source": [
    "\n",
    "ENG_FREQ = 'ETAOINSRHDLUCMFYWGPBVKXQJZ'\n",
    "freqs = vh.to_fr_unit(res,[x for x in ENG_FREQ])\n",
    "for i in freqs: \n",
    "    print(i,\"\\n\")"
   ]
  },
  {
   "cell_type": "code",
   "execution_count": 12,
   "metadata": {},
   "outputs": [
    {
     "name": "stdout",
     "output_type": "stream",
     "text": [
      "DECODED: \n",
      "\t FLW WUVW, LHK RMJKT ZAPMEE SR OZIIL M FOC EYTEIZ FS LHK BYTDII, JGJMY FLW CURFMFMAZMAR GF QK \n",
      "RUX \n",
      "OJATOO  VWR  BSDATO\n",
      "EGZWN  AICGNUQUI\n",
      "  (\n",
      "M  UOTXDMTMTOSZ  LO  FLW  IVUXAUIYQ  GX  TAPALIIEX  WCURAQQ\n",
      ") \n",
      "BYTDIYLQH AN 1859. ZLQ DGNM BEMKE FQXOWET FLW FOVEX H \n",
      "\n",
      "\n",
      "ENCODED: \n",
      "\t the park, the corrt vadffe oc bhalh o aob ifgfat ta the mfgdal, miscn the dantoscittan of uw \n",
      "xmr \n",
      "kritsk  uer  madits\n",
      "iuhen  aekonauoe\n",
      "  (\n",
      "s  looarogctson  to  the  lrotolanu  im  madotalil  edanacw\n",
      ") \n",
      "mfgdanhel in 1859. the dony mifre betbeeo the fsrit y\n"
     ]
    }
   ],
   "source": [
    "out = vh.decode(message, freqs)\n",
    "print('DECODED: \\n\\t',message[:256],'\\n\\n')\n",
    "print('ENCODED: \\n\\t',out[:256])"
   ]
  },
  {
   "cell_type": "code",
   "execution_count": 13,
   "metadata": {},
   "outputs": [
    {
     "name": "stdout",
     "output_type": "stream",
     "text": [
      "0 12\n",
      "New key:  M******\n",
      "1 4\n",
      "New key:  ME*****\n",
      "2 18\n",
      "New key:  MES****\n"
     ]
    }
   ],
   "source": [
    "vh.add_correct(message, out, 0)\n",
    "vh.add_correct(message, out, 1)\n",
    "vh.add_correct(message, out, 2)"
   ]
  },
  {
   "cell_type": "code",
   "execution_count": 14,
   "metadata": {},
   "outputs": [
    {
     "name": "stdout",
     "output_type": "stream",
     "text": [
      "DECODED: \n",
      "\t FLW WUVW, LHK RMJKT ZAPMEE SR OZIIL M FOC EYTEIZ FS LHK BYTDII, JGJMY FLW CURFMFMAZMAR GF QK \n",
      "RUX \n",
      "OJATOO  VWR  BSDATO\n",
      "EGZWN  AICGNUQUI\n",
      "  (\n",
      "M  UOTXDMTMTOSZ  LO  FLW  IVUXAUIYQ  GX  TAPALIIEX  WCURAQQ\n",
      ") \n",
      "BYTDIYLQH AN 1859. ZLQ DGNM BEMKE FQXOWET FLW FOVEX H \n",
      "\n",
      "\n",
      "ENCODED: \n",
      "\t THE parK, the FIRrt vOLUfe oF Whalh I aob SUBfat TO the PUBdal, FOscn THE danTINcittON of uY \n",
      "xmr \n",
      "KRitsk  Der  POLits\n",
      "SCHen  OEKonauIE\n",
      "  (\n",
      "A  looaRIBctsoN  to  THE  lrITIlanu  Om  mOLItaliL  edanOMY\n",
      ") \n",
      "PUBdanhED in 1859. thE Lony PAUre bETWeeo THE fsrST y\n"
     ]
    }
   ],
   "source": [
    "out = vh.decode(message, freqs)\n",
    "print('DECODED: \\n\\t',message[:256],'\\n\\n')\n",
    "print('ENCODED: \\n\\t',out[:256])"
   ]
  },
  {
   "cell_type": "code",
   "execution_count": 15,
   "metadata": {},
   "outputs": [
    {
     "name": "stdout",
     "output_type": "stream",
     "text": [
      "FIRrt vOLUfe oF \n",
      "4 0\n",
      "New key:  MES*A**\n",
      "6 4\n",
      "New key:  MES*A*E\n",
      "4 0\n",
      "New key:  MES*A*E\n"
     ]
    }
   ],
   "source": [
    "print(out[14:30])\n",
    "vh.add_correct(message, out, 18)\n",
    "vh.add_correct(message, out, 20)\n",
    "vh.add_correct(message, out, 25)"
   ]
  },
  {
   "cell_type": "code",
   "execution_count": 16,
   "metadata": {},
   "outputs": [
    {
     "name": "stdout",
     "output_type": "stream",
     "text": [
      "DECODED: \n",
      "\t FLW WUVW, LHK RMJKT ZAPMEE SR OZIIL M FOC EYTEIZ FS LHK BYTDII, JGJMY FLW CURFMFMAZMAR GF QK \n",
      "RUX \n",
      "OJATOO  VWR  BSDATO\n",
      "EGZWN  AICGNUQUI\n",
      "  (\n",
      "M  UOTXDMTMTOSZ  LO  FLW  IVUXAUIYQ  GX  TAPALIIEX  WCURAQQ\n",
      ") \n",
      "BYTDIYLQH AN 1859. ZLQ DGNM BEMKE FQXOWET FLW FOVEX H \n",
      "\n",
      "\n",
      "ENCODED: \n",
      "\t THE WaRK, tHe FIRrT VOLUfE OF WhIlH I aOb SUBfIt TO tHe PUBdIl, FOsMn THE CaNTINcAtION oF MY \n",
      "xUr \n",
      "KRiTsK  DeR  POLiTs\n",
      "SCHeN  OEKoNaMIE\n",
      "  (\n",
      "A  lOoTRIBcTsON  tO  THE  lRITIlInM  Om  POLItIlAL  eCaNOMY\n",
      ") \n",
      "PUBdInHED iN 1859. tHE LoNy PAUrE BETWeEo THE FsRST y\n"
     ]
    }
   ],
   "source": [
    "out = vh.decode(message, freqs)\n",
    "print('DECODED: \\n\\t',message[:256],'\\n\\n')\n",
    "print('ENCODED: \\n\\t',out[:256])"
   ]
  },
  {
   "cell_type": "code",
   "execution_count": 17,
   "metadata": {},
   "outputs": [
    {
     "name": "stdout",
     "output_type": "stream",
     "text": [
      "tHe FIRrT VOLUfE OF \n",
      "5 6\n",
      "New key:  MES*AGE\n",
      "3 18\n",
      "New key:  MESSAGE\n"
     ]
    }
   ],
   "source": [
    "print(out[10:30])\n",
    "vh.add_correct(message, out, 12)\n",
    "vh.replace(message,17,'S')"
   ]
  },
  {
   "cell_type": "code",
   "execution_count": 18,
   "metadata": {},
   "outputs": [
    {
     "name": "stdout",
     "output_type": "stream",
     "text": [
      "DECODED: \n",
      "\t FLW WUVW, LHK RMJKT ZAPMEE SR OZIIL M FOC EYTEIZ FS LHK BYTDII, JGJMY FLW CURFMFMAZMAR GF QK \n",
      "RUX \n",
      "OJATOO  VWR  BSDATO\n",
      "EGZWN  AICGNUQUI\n",
      "  (\n",
      "M  UOTXDMTMTOSZ  LO  FLW  IVUXAUIYQ  GX  TAPALIIEX  WCURAQQ\n",
      ") \n",
      "BYTDIYLQH AN 1859. ZLQ DGNM BEMKE FQXOWET FLW FOVEX H \n",
      "\n",
      "\n",
      "ENCODED: \n",
      "\t THE WORK, THE FIRST VOLUME OF WHICH I NOW SUBMIT TO THE PUBLIC, FORMS THE CONTINUATION OF MY \n",
      "ZUR \n",
      "KRITIK  DER  POLITI\n",
      "SCHEN  OEKONOMIE\n",
      "  (\n",
      "A  CONTRIBUTION  TO  THE  CRITICISM  OF  POLITICAL  ECONOMY\n",
      ") \n",
      "PUBLISHED IN 1859. THE LONG PAUSE BETWEEN THE FIRST P\n"
     ]
    }
   ],
   "source": [
    "out = vh.decode(message, freqs)\n",
    "print('DECODED: \\n\\t',message[:256],'\\n\\n')\n",
    "print('ENCODED: \\n\\t',out[:256])"
   ]
  },
  {
   "cell_type": "code",
   "execution_count": null,
   "metadata": {},
   "outputs": [],
   "source": []
  }
 ],
 "metadata": {
  "kernelspec": {
   "display_name": "Python 3",
   "language": "python",
   "name": "python3"
  },
  "language_info": {
   "codemirror_mode": {
    "name": "ipython",
    "version": 3
   },
   "file_extension": ".py",
   "mimetype": "text/x-python",
   "name": "python",
   "nbconvert_exporter": "python",
   "pygments_lexer": "ipython3",
   "version": "3.6.4"
  }
 },
 "nbformat": 4,
 "nbformat_minor": 2
}
