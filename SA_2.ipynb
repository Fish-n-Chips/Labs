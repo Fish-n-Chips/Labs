{
 "cells": [
  {
   "cell_type": "code",
   "execution_count": 1,
   "metadata": {},
   "outputs": [],
   "source": [
    "ratings = [33,100,68,40]\n"
   ]
  },
  {
   "cell_type": "code",
   "execution_count": 2,
   "metadata": {},
   "outputs": [],
   "source": [
    "sorted_ratings = sorted([(k, sum([1 if b > a else 0 for a in ratings ])\n",
    "                          /len(ratings)) for k, b in enumerate(ratings)],\n",
    "                        key=lambda t: t[1])"
   ]
  },
  {
   "cell_type": "code",
   "execution_count": 3,
   "metadata": {},
   "outputs": [
    {
     "name": "stdout",
     "output_type": "stream",
     "text": [
      "Option #2(100): 0.75\n",
      "Option #3(68): 0.5\n",
      "Option #4(40): 0.25\n",
      "Option #1(33): 0.0\n"
     ]
    }
   ],
   "source": [
    "for i in reversed(sorted_ratings):\n",
    "    print(\"Option #{}({}): {}\".format(i[0]+1, ratings[i[0]], i[1]))"
   ]
  },
  {
   "cell_type": "code",
   "execution_count": 4,
   "metadata": {},
   "outputs": [],
   "source": [
    "ratings = [[0.2, 0.14, 0.16, 0.5],[0.4, 0.25, 0.15, 0.2]]\n",
    "r1=8\n",
    "r2=8.5"
   ]
  },
  {
   "cell_type": "code",
   "execution_count": 5,
   "metadata": {},
   "outputs": [],
   "source": [
    "sorted_ratings = sorted(list(enumerate([l[0]*r1/(r1+r2) + l[1]*r2/(r1+r2)\n",
    "                                for l in list(zip(ratings[0],ratings[1]))])), \n",
    "                        key=lambda t: t[1])"
   ]
  },
  {
   "cell_type": "code",
   "execution_count": 6,
   "metadata": {},
   "outputs": [
    {
     "name": "stdout",
     "output_type": "stream",
     "text": [
      "Option #4: 0.34545454545454546\n",
      "Option #1: 0.30303030303030304\n",
      "Option #2: 0.19666666666666666\n",
      "Option #3: 0.15484848484848485\n"
     ]
    }
   ],
   "source": [
    "for i in reversed(sorted_ratings):\n",
    "    print(\"Option #{}: {}\".format(i[0]+1, i[1]))"
   ]
  },
  {
   "cell_type": "code",
   "execution_count": 7,
   "metadata": {},
   "outputs": [],
   "source": [
    "import numpy as np\n",
    "ratings = np.array([[1,2,3],[2,1,3],[2,3,1],[3,2,1],[3,1,2],[1,2,3]])"
   ]
  },
  {
   "cell_type": "code",
   "execution_count": 8,
   "metadata": {},
   "outputs": [],
   "source": [
    "K = np.sum(np.array([max(ratings[0])-i for i in np.reshape(ratings,(1,-1))]).reshape(ratings.shape),\n",
    "           axis=0)\n",
    "sorted_ratings = sorted(list(enumerate([i/sum(K) for i in K])), key=lambda t: t[1])"
   ]
  },
  {
   "cell_type": "code",
   "execution_count": 9,
   "metadata": {},
   "outputs": [
    {
     "name": "stdout",
     "output_type": "stream",
     "text": [
      "Option #2: 0.3888888888888889\n",
      "Option #1: 0.3333333333333333\n",
      "Option #3: 0.2777777777777778\n"
     ]
    }
   ],
   "source": [
    "for i in reversed(sorted_ratings):\n",
    "    print(\"Option #{}: {}\".format(i[0]+1, i[1]))"
   ]
  },
  {
   "cell_type": "code",
   "execution_count": 10,
   "metadata": {},
   "outputs": [],
   "source": [
    "ratings = np.array([[1,2,3],[2,1,3],[2,3,1],[3,2,1],[3,1,2],[1,2,3]])\n"
   ]
  },
  {
   "cell_type": "code",
   "execution_count": 11,
   "metadata": {},
   "outputs": [],
   "source": [
    "K = np.sum(np.array([i/sum(ratings[0]) for i in np.reshape(ratings,(1,-1))]).reshape(ratings.shape),\n",
    "           axis=0)\n",
    "sorted_ratings = sorted(list(enumerate([i/sum(ratings[0]) for i in K])), key=lambda t: t[1])"
   ]
  },
  {
   "cell_type": "code",
   "execution_count": 12,
   "metadata": {},
   "outputs": [
    {
     "name": "stdout",
     "output_type": "stream",
     "text": [
      "Option #3: 0.36111111111111116\n",
      "Option #1: 0.3333333333333333\n",
      "Option #2: 0.3055555555555555\n"
     ]
    }
   ],
   "source": [
    "for i in reversed(sorted_ratings):\n",
    "    print(\"Option #{}: {}\".format(i[0]+1, i[1]))"
   ]
  },
  {
   "cell_type": "code",
   "execution_count": 13,
   "metadata": {},
   "outputs": [],
   "source": [
    "ratings = np.array([[[0,13,1],[3,0,7],[15,9,0]],[[0,11,4],[5,0,5],[12,11,0]]])\n",
    "z = 20"
   ]
  },
  {
   "cell_type": "code",
   "execution_count": 14,
   "metadata": {},
   "outputs": [],
   "source": [
    "K = np.sum(np.sum(ratings, axis=2),axis=0)\n",
    "sorted_ratings = sorted(list(enumerate([i/(z*ratings.shape[0]*ratings.shape[1]) for i in K])), \n",
    "                        key=lambda t: t[1])"
   ]
  },
  {
   "cell_type": "code",
   "execution_count": 15,
   "metadata": {},
   "outputs": [
    {
     "name": "stdout",
     "output_type": "stream",
     "text": [
      "Option #3: 0.39166666666666666\n",
      "Option #1: 0.24166666666666667\n",
      "Option #2: 0.16666666666666666\n"
     ]
    }
   ],
   "source": [
    "for i in reversed(sorted_ratings):\n",
    "    print(\"Option #{}: {}\".format(i[0]+1, i[1]))"
   ]
  },
  {
   "cell_type": "code",
   "execution_count": null,
   "metadata": {},
   "outputs": [],
   "source": []
  }
 ],
 "metadata": {
  "kernelspec": {
   "display_name": "Python 3",
   "language": "python",
   "name": "python3"
  },
  "language_info": {
   "codemirror_mode": {
    "name": "ipython",
    "version": 3
   },
   "file_extension": ".py",
   "mimetype": "text/x-python",
   "name": "python",
   "nbconvert_exporter": "python",
   "pygments_lexer": "ipython3",
   "version": "3.6.4"
  }
 },
 "nbformat": 4,
 "nbformat_minor": 2
}
