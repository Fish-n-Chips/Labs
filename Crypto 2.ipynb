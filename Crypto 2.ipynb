{
 "cells": [
  {
   "cell_type": "code",
   "execution_count": 2,
   "metadata": {},
   "outputs": [],
   "source": [
    "from Crypto.Cipher import DES, DES3, AES\n",
    "from Crypto import Random"
   ]
  },
  {
   "cell_type": "code",
   "execution_count": 32,
   "metadata": {},
   "outputs": [],
   "source": [
    "NAME = 'Галета Павел Олександрович'\n",
    "key_8bit = bytes(NAME, 'utf-16')[:8]\n",
    "key_16bit = bytes(NAME, 'utf-16')[:16]\n",
    "\n",
    "with open('capital.txt', 'r') as f:\n",
    "    MESSAGE = f.read()\n",
    "MESSAGE = bytes(MESSAGE, 'utf-8')\n",
    "CHANK_EM = int(len(MESSAGE)/64)\n",
    "CHANKS = [MESSAGE[i*64:i*64+64] for i in range(CHANK_EM)]"
   ]
  },
  {
   "cell_type": "markdown",
   "metadata": {},
   "source": [
    "# DES ECB"
   ]
  },
  {
   "cell_type": "code",
   "execution_count": 64,
   "metadata": {},
   "outputs": [
    {
     "name": "stdout",
     "output_type": "stream",
     "text": [
      "MESSAGE: \tThe work, the first volume of which I now submit t\n",
      "ENCRYPTED: \tb\"''\\xed\\x1d\\x90p\\x95v\\x96zt\\xcaj\\x99:5\\xab\\x9bue\\x96lX\\xfb\\xf5\\xfcWQ\\x98\\xb3s3\\n\\x10\\xc0\\xadw\\xd8\\xd5\\x97\\x92R\\xfb\\x9a\\xba\\x95NB\\x062\"\n",
      "DECRYPTED: \tThe work, the first volume of which I now submit t\n"
     ]
    }
   ],
   "source": [
    "EN_CHANKS = list()\n",
    "DEC_CHANKS = list()\n",
    "des = DES.new(key_8bit, DES.MODE_ECB)\n",
    "for i in CHANKS:\n",
    "    EN_CHANKS.append(des.encrypt(i))\n",
    "EN_MESSAGE =b\"\".join(EN_CHANKS)\n",
    "for i in EN_CHANKS:\n",
    "    DEC_CHANKS.append(des.decrypt(i))\n",
    "DEC_MESSAGE =b\"\".join(DEC_CHANKS)\n",
    "DEC_MESSAGE = DEC_MESSAGE.decode('utf-8')\n",
    "print('MESSAGE: \\t{}'.format(MESSAGE[:50].decode('utf-8')))\n",
    "print('ENCRYPTED: \\t{}'.format(EN_MESSAGE[:50]))\n",
    "print('DECRYPTED: \\t{}'.format(DEC_MESSAGE[:50]))"
   ]
  },
  {
   "cell_type": "markdown",
   "metadata": {},
   "source": [
    "![title](img/7.PNG)"
   ]
  },
  {
   "cell_type": "markdown",
   "metadata": {},
   "source": [
    "# DES CBC"
   ]
  },
  {
   "cell_type": "code",
   "execution_count": 65,
   "metadata": {},
   "outputs": [
    {
     "name": "stdout",
     "output_type": "stream",
     "text": [
      "MESSAGE: \tThe work, the first volume of which I now submit t\n",
      "ENCRYPTED: \tb\"'.6\\xaf\\xa3\\xb5'\\xdd\\xa3\\x89X\\xd5>I\\xde\\x9c\\n\\xe4\\xdf\\xfa\\x8f\\x15PVt\\xbcP\\xe9#cB\\xab\\xa4\\x8a3S\\x85/\\x8aW\\xc3\\xf2\\xb8*;\\xd7\\x9a\\xf2\\xd3\\x01\"\n",
      "DECRYPTED: \tThe work, the first volume of which I now submit t\n"
     ]
    }
   ],
   "source": [
    "iv = Random.get_random_bytes(8)\n",
    "EN_CHANKS = list()\n",
    "DEC_CHANKS = list()\n",
    "des1 = DES.new(key_8bit, DES.MODE_CBC, iv)\n",
    "des2 = DES.new(key_8bit, DES.MODE_CBC, iv)\n",
    "for i in CHANKS:\n",
    "    EN_CHANKS.append(des1.encrypt(i))\n",
    "EN_MESSAGE =b\"\".join(EN_CHANKS)\n",
    "for i in EN_CHANKS:\n",
    "    DEC_CHANKS.append(des2.decrypt(i))\n",
    "DEC_MESSAGE =b\"\".join(DEC_CHANKS)\n",
    "DEC_MESSAGE = DEC_MESSAGE.decode('utf-8')\n",
    "print('MESSAGE: \\t{}'.format(MESSAGE[:50].decode('utf-8')))\n",
    "print('ENCRYPTED: \\t{}'.format(EN_MESSAGE[:50]))\n",
    "print('DECRYPTED: \\t{}'.format(DEC_MESSAGE[:50]))"
   ]
  },
  {
   "cell_type": "markdown",
   "metadata": {},
   "source": [
    "![title](img/8.PNG)"
   ]
  },
  {
   "cell_type": "markdown",
   "metadata": {},
   "source": [
    "# TripleDES ECB"
   ]
  },
  {
   "cell_type": "code",
   "execution_count": 66,
   "metadata": {},
   "outputs": [
    {
     "name": "stdout",
     "output_type": "stream",
     "text": [
      "MESSAGE: \tThe work, the first volume of which I now submit t\n",
      "ENCRYPTED: \tb'_d\\x97\\xe6\\n\\x86\\x8a \\xeaUj\\xba\\x0e\\x8e\\xfa9%#(G\\x84b\\xef\\x8c\\xd7\\x0c\\x83b\\xcc,z\\xd2\\x91\\xd0\\xdb{~7\\xcd\\x1c\\x19d\\x96\\xd8\\x15\\xa1\\xc2M\\xb9\\x92'\n",
      "DECRYPTED: \tThe work, the first volume of which I now submit t\n"
     ]
    }
   ],
   "source": [
    "EN_CHANKS = list()\n",
    "DEC_CHANKS = list()\n",
    "des = DES3.new(key_16bit, DES3.MODE_ECB)\n",
    "for i in CHANKS:\n",
    "    EN_CHANKS.append(des.encrypt(i))\n",
    "EN_MESSAGE =b\"\".join(EN_CHANKS)\n",
    "for i in EN_CHANKS:\n",
    "    DEC_CHANKS.append(des.decrypt(i))\n",
    "DEC_MESSAGE =b\"\".join(DEC_CHANKS)\n",
    "DEC_MESSAGE = DEC_MESSAGE.decode('utf-8')\n",
    "print('MESSAGE: \\t{}'.format(MESSAGE[:50].decode('utf-8')))\n",
    "print('ENCRYPTED: \\t{}'.format(EN_MESSAGE[:50]))\n",
    "print('DECRYPTED: \\t{}'.format(DEC_MESSAGE[:50]))"
   ]
  },
  {
   "cell_type": "markdown",
   "metadata": {},
   "source": [
    "# TripleDES CBC"
   ]
  },
  {
   "cell_type": "code",
   "execution_count": 67,
   "metadata": {},
   "outputs": [
    {
     "name": "stdout",
     "output_type": "stream",
     "text": [
      "MESSAGE: \tThe work, the first volume of which I now submit t\n",
      "ENCRYPTED: \tb'\\xc4\\x03\\xe0\\xae\\n\\xdf\\x99V\\xc7c&^\\x1e@\\xff\\x9f8\\x03h\\x17\\xf8\\xb5nL:\\xbe9?8\\xf9\\xe5\\xf0)\\x89\\x918kv]\\xac\\xe5\\xc4\\xc3\\xb8\\x07I\\x08\\xdf\\xefc'\n",
      "DECRYPTED: \tThe work, the first volume of which I now submit t\n"
     ]
    }
   ],
   "source": [
    "iv = Random.get_random_bytes(8)\n",
    "EN_CHANKS = list()\n",
    "DEC_CHANKS = list()\n",
    "des1 = DES3.new(key_16bit, DES3.MODE_CBC, iv)\n",
    "des2 = DES3.new(key_16bit, DES3.MODE_CBC, iv)\n",
    "for i in CHANKS:\n",
    "    EN_CHANKS.append(des1.encrypt(i))\n",
    "EN_MESSAGE =b\"\".join(EN_CHANKS)\n",
    "for i in EN_CHANKS:\n",
    "    DEC_CHANKS.append(des2.decrypt(i))\n",
    "DEC_MESSAGE =b\"\".join(DEC_CHANKS)\n",
    "DEC_MESSAGE = DEC_MESSAGE.decode('utf-8')\n",
    "print('MESSAGE: \\t{}'.format(MESSAGE[:50].decode('utf-8')))\n",
    "print('ENCRYPTED: \\t{}'.format(EN_MESSAGE[:50]))\n",
    "print('DECRYPTED: \\t{}'.format(DEC_MESSAGE[:50]))"
   ]
  },
  {
   "cell_type": "markdown",
   "metadata": {},
   "source": [
    "# AES"
   ]
  },
  {
   "cell_type": "code",
   "execution_count": 68,
   "metadata": {},
   "outputs": [
    {
     "name": "stdout",
     "output_type": "stream",
     "text": [
      "MESSAGE: \tThe work, the first volume of which I now submit t\n",
      "ENCRYPTED: \tb'\\xb8\\xf6G\\x8fh\\xd5\\xf1\\xc5\\x80\\rA\\xa3j-\\x96\\x0f\\xbc\\xbc\\xe2RZ\\xdb\\xccQ\\xcd\\xe25\\x912\\xf6qf\\xdb&\\x1e\\xc6g\\n\\x02\\xc8\\x8a\\xe0\\xcf+\\x84v\\x8d\\xc7!\\x0b'\n",
      "DECRYPTED: \tThe work, the first volume of which I now submit t\n"
     ]
    }
   ],
   "source": [
    "iv = Random.get_random_bytes(16)\n",
    "EN_CHANKS = list()\n",
    "DEC_CHANKS = list()\n",
    "aes1 = AES.new(key_16bit, AES.MODE_CFB, iv)\n",
    "aes2 = AES.new(key_16bit, AES.MODE_CFB, iv)\n",
    "for i in CHANKS:\n",
    "    EN_CHANKS.append(aes1.encrypt(i))\n",
    "EN_MESSAGE =b\"\".join(EN_CHANKS)\n",
    "for i in EN_CHANKS:\n",
    "    DEC_CHANKS.append(aes2.decrypt(i))\n",
    "DEC_MESSAGE =b\"\".join(DEC_CHANKS)\n",
    "DEC_MESSAGE = DEC_MESSAGE.decode('utf-8')\n",
    "print('MESSAGE: \\t{}'.format(MESSAGE[:50].decode('utf-8')))\n",
    "print('ENCRYPTED: \\t{}'.format(EN_MESSAGE[:50]))\n",
    "print('DECRYPTED: \\t{}'.format(DEC_MESSAGE[:50]))"
   ]
  },
  {
   "cell_type": "markdown",
   "metadata": {},
   "source": [
    "![title](img/9.PNG)"
   ]
  },
  {
   "cell_type": "code",
   "execution_count": null,
   "metadata": {},
   "outputs": [],
   "source": []
  }
 ],
 "metadata": {
  "kernelspec": {
   "display_name": "Python 3",
   "language": "python",
   "name": "python3"
  },
  "language_info": {
   "codemirror_mode": {
    "name": "ipython",
    "version": 3
   },
   "file_extension": ".py",
   "mimetype": "text/x-python",
   "name": "python",
   "nbconvert_exporter": "python",
   "pygments_lexer": "ipython3",
   "version": "3.6.4"
  }
 },
 "nbformat": 4,
 "nbformat_minor": 2
}
