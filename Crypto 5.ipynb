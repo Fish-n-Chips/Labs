{
 "cells": [
  {
   "cell_type": "code",
   "execution_count": 3,
   "metadata": {},
   "outputs": [],
   "source": [
    "from PIL import Image\n",
    "\n",
    "def pack(text, img):\n",
    "    cursor = 0\n",
    "\n",
    "    for i in range(img.size[0]):\n",
    "        for j in range(img.size[1]):\n",
    "            \n",
    "            pixel = list(img.getpixel((i,j)))\n",
    "            \n",
    "            for ix,p in enumerate(pixel):\n",
    "                if cursor > len(text) * 4 - 1:\n",
    "                    img.putpixel((i,j), tuple(pixel))\n",
    "                    return\n",
    "    \n",
    "                byte = text[cursor // 4]\n",
    "                encodedByte = (ord(byte) >> ((cursor % 4) * 2)) | 0xFC\n",
    "                pixel[ix] = (p | 0x03) & encodedByte\n",
    "                \n",
    "                cursor += 1\n",
    "\n",
    "\n",
    "            img.putpixel((i,j), tuple(pixel))\n",
    "\n",
    "\n",
    "def unpack(img):\n",
    "    text = []\n",
    "\n",
    "    cursor = 0\n",
    "    byte = 0\n",
    "\n",
    "    for i in range(img.size[0]):\n",
    "        for j in range(img.size[1]):\n",
    "            pixel = list(img.getpixel((i,j)))\n",
    "            \n",
    "            for p in pixel:\n",
    "                if cursor % 4 == 0:\n",
    "                    if (byte < 32 and byte != 0 and byte != 10 and byte != 13) or byte > 127:\n",
    "                        return ''.join(text[1:])\n",
    "                    \n",
    "                    text.append(chr(byte))\n",
    "                    byte = 0\n",
    "                \n",
    "                decodedByte = p & 0x03\n",
    "\n",
    "                byte |= decodedByte << ((cursor % 4) * 2)\n",
    "                cursor += 1\n",
    "    \n",
    "\n",
    "    return ''.join(text[1:])\n",
    "     \n",
    "\n",
    "\n"
   ]
  },
  {
   "cell_type": "code",
   "execution_count": 4,
   "metadata": {},
   "outputs": [
    {
     "name": "stdout",
     "output_type": "stream",
     "text": [
      "Container capacity: 167265.0 bytes\n",
      "The work, the first volume of which I now submit to the public, forms the continuation of my \n",
      "Zur \n",
      "Kritik  der  Politi\n",
      "schen  Oekonomie\n",
      "  (\n",
      "A  Contribution  to  the  Criticism  of  Political  Economy\n",
      ") \n",
      "published in 1859. The long pause between the first part and the continuation is due to an illness \n",
      "of many years\n"
     ]
    }
   ],
   "source": [
    "img = Image.open('tiger.bmp')\n",
    "\n",
    "print(\"Container capacity:\", img.size[0] * img.size[1] * 3 / 4, \"bytes\")\n",
    "\n",
    "with open(\"capital.txt\", \"r\") as f:\n",
    "    text = f.read()\n",
    "\n",
    "pack(text, img)\n",
    "img.save(\"message.bmp\")\n",
    "\n",
    "img = Image.open(\"message.bmp\")\n",
    "print(unpack(img))\n"
   ]
  },
  {
   "cell_type": "code",
   "execution_count": null,
   "metadata": {},
   "outputs": [],
   "source": []
  }
 ],
 "metadata": {
  "kernelspec": {
   "display_name": "Python 3",
   "language": "python",
   "name": "python3"
  },
  "language_info": {
   "codemirror_mode": {
    "name": "ipython",
    "version": 3
   },
   "file_extension": ".py",
   "mimetype": "text/x-python",
   "name": "python",
   "nbconvert_exporter": "python",
   "pygments_lexer": "ipython3",
   "version": "3.6.4"
  }
 },
 "nbformat": 4,
 "nbformat_minor": 2
}
